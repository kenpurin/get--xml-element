{
  "nbformat": 4,
  "nbformat_minor": 0,
  "metadata": {
    "colab": {
      "name": "get xml element.ipynb",
      "provenance": [],
      "authorship_tag": "ABX9TyPh7dGqcZ1qUuM1DfE+MRWl",
      "include_colab_link": true
    },
    "kernelspec": {
      "name": "python3",
      "display_name": "Python 3"
    },
    "language_info": {
      "name": "python"
    }
  },
  "cells": [
    {
      "cell_type": "markdown",
      "metadata": {
        "id": "view-in-github",
        "colab_type": "text"
      },
      "source": [
        "<a href=\"https://colab.research.google.com/github/kenpurin/get--xml-element/blob/main/get_xml_element.ipynb\" target=\"_parent\"><img src=\"https://colab.research.google.com/assets/colab-badge.svg\" alt=\"Open In Colab\"/></a>"
      ]
    },
    {
      "cell_type": "code",
      "execution_count": null,
      "metadata": {
        "id": "ooveZ27gW-2I"
      },
      "outputs": [],
      "source": [
        "#https://rukpong.medium.com/วิธีการ-get-xml-element-ขั้นพื้นฐานด้วย-python-5d491d3d4c73"
      ]
    },
    {
      "cell_type": "code",
      "source": [
        "!git clone https://github.com/kenpurin/get--xml-element.git"
      ],
      "metadata": {
        "colab": {
          "base_uri": "https://localhost:8080/"
        },
        "id": "gsMl0U-Qah36",
        "outputId": "7d320a3b-a611-49be-a373-6d49399c6344"
      },
      "execution_count": 2,
      "outputs": [
        {
          "output_type": "stream",
          "name": "stdout",
          "text": [
            "Cloning into 'get--xml-element'...\n",
            "remote: Enumerating objects: 18, done.\u001b[K\n",
            "remote: Counting objects: 100% (18/18), done.\u001b[K\n",
            "remote: Compressing objects: 100% (11/11), done.\u001b[K\n",
            "remote: Total 18 (delta 2), reused 8 (delta 1), pack-reused 0\u001b[K\n",
            "Unpacking objects: 100% (18/18), done.\n"
          ]
        }
      ]
    },
    {
      "cell_type": "code",
      "source": [
        "import xml.etree.ElementTree as ET"
      ],
      "metadata": {
        "id": "Yg1EzWkIXZWL"
      },
      "execution_count": 1,
      "outputs": []
    },
    {
      "cell_type": "code",
      "source": [
        "import xml.etree.ElementTree as ET\n",
        "pathFile = '/content/get--xml-element/customer.xml'\n",
        "root = ET.parse(pathFile).getroot()\n",
        "for customer in root:\n",
        "    print(customer)"
      ],
      "metadata": {
        "colab": {
          "base_uri": "https://localhost:8080/"
        },
        "id": "KxEypi8Xaj7i",
        "outputId": "76f7e61a-3b5f-4faf-ba91-f51b19bac902"
      },
      "execution_count": 3,
      "outputs": [
        {
          "output_type": "stream",
          "name": "stdout",
          "text": [
            "<Element 'customer' at 0x7fcfdce7d410>\n",
            "<Element 'customer' at 0x7fcfdce7da10>\n",
            "<Element 'customer' at 0x7fcfdce7dd10>\n",
            "<Element 'customer' at 0x7fcfdce83050>\n"
          ]
        }
      ]
    },
    {
      "cell_type": "code",
      "source": [
        "for customer in root:\n",
        "    print(customer.tag)"
      ],
      "metadata": {
        "colab": {
          "base_uri": "https://localhost:8080/"
        },
        "id": "_Gt0wwTkask7",
        "outputId": "13ae01a4-4d8b-4fd9-a8b3-d3ab6821c13c"
      },
      "execution_count": 4,
      "outputs": [
        {
          "output_type": "stream",
          "name": "stdout",
          "text": [
            "customer\n",
            "customer\n",
            "customer\n",
            "customer\n"
          ]
        }
      ]
    },
    {
      "cell_type": "code",
      "source": [
        "for customer in root:\n",
        "    print(customer.attrib)"
      ],
      "metadata": {
        "colab": {
          "base_uri": "https://localhost:8080/"
        },
        "id": "u_D6oWaCaufE",
        "outputId": "0c141045-53f5-46ce-ea3d-f4f4fe7d1e48"
      },
      "execution_count": 5,
      "outputs": [
        {
          "output_type": "stream",
          "name": "stdout",
          "text": [
            "{'name': 'John', 'id': '001'}\n",
            "{'name': 'Joe', 'id': '002'}\n",
            "{'name': 'Mary', 'id': '003'}\n",
            "{'name': 'Rica', 'id': '004'}\n"
          ]
        }
      ]
    },
    {
      "cell_type": "code",
      "source": [
        "for customer in root:\n",
        "    print(customer.get('name'))"
      ],
      "metadata": {
        "colab": {
          "base_uri": "https://localhost:8080/"
        },
        "id": "C4PnvS7Saw2E",
        "outputId": "4a2b1cf6-a6ea-4abd-bf43-07ee038ff654"
      },
      "execution_count": 6,
      "outputs": [
        {
          "output_type": "stream",
          "name": "stdout",
          "text": [
            "John\n",
            "Joe\n",
            "Mary\n",
            "Rica\n"
          ]
        }
      ]
    },
    {
      "cell_type": "code",
      "source": [
        "for customer in root:\n",
        "    for detail in customer:\n",
        "        print(detail.text)"
      ],
      "metadata": {
        "colab": {
          "base_uri": "https://localhost:8080/"
        },
        "id": "rvA8VpY6azZT",
        "outputId": "5e98d992-6ef1-4f15-cd9b-49ffb043251b"
      },
      "execution_count": 7,
      "outputs": [
        {
          "output_type": "stream",
          "name": "stdout",
          "text": [
            "30\n",
            "male\n",
            "Swiss\n",
            "\n",
            "            \n",
            "012-0989999\n",
            "27\n",
            "male\n",
            "English\n",
            "\n",
            "            \n",
            "011-1234442\n",
            "26\n",
            "female\n",
            "Australian\n",
            "\n",
            "            \n",
            "088-9001234\n",
            "29\n",
            "female\n",
            "English\n",
            "\n",
            "            \n",
            "099-1238888\n"
          ]
        }
      ]
    },
    {
      "cell_type": "code",
      "source": [
        "for customer in root:\n",
        "    print(f'Name: {customer.get(\"name\")}')\n",
        "    for detail in customer:\n",
        "        detail_text = ''\n",
        "        if detail.tag == 'address':\n",
        "            for address in detail:\n",
        "              detail_text += f'{address.tag}.{address.text}'\n",
        "        else:\n",
        "            detail_text = detail.text\n",
        "            print(f'{detail.tag}: {detail_text}')\n",
        "    print()"
      ],
      "metadata": {
        "colab": {
          "base_uri": "https://localhost:8080/"
        },
        "id": "DzHLwOMbazXd",
        "outputId": "189e10ed-ed99-47f4-d3bd-b3f6ef9cb239"
      },
      "execution_count": 10,
      "outputs": [
        {
          "output_type": "stream",
          "name": "stdout",
          "text": [
            "Name: John\n",
            "age: 30\n",
            "gender: male\n",
            "nationality: Swiss\n",
            "telNo: 012-0989999\n",
            "\n",
            "Name: Joe\n",
            "age: 27\n",
            "gender: male\n",
            "nationality: English\n",
            "telNo: 011-1234442\n",
            "\n",
            "Name: Mary\n",
            "age: 26\n",
            "gender: female\n",
            "nationality: Australian\n",
            "telNo: 088-9001234\n",
            "\n",
            "Name: Rica\n",
            "age: 29\n",
            "gender: female\n",
            "nationality: English\n",
            "telNo: 099-1238888\n",
            "\n"
          ]
        }
      ]
    },
    {
      "cell_type": "code",
      "source": [],
      "metadata": {
        "id": "nK36T-tobGmZ"
      },
      "execution_count": null,
      "outputs": []
    }
  ]
}